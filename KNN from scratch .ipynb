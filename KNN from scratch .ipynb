{
 "cells": [
  {
   "cell_type": "code",
   "execution_count": 265,
   "metadata": {},
   "outputs": [],
   "source": [
    "import numpy as np\n",
    "import pandas as pd\n",
    "import matplotlib.pyplot as plt\n",
    "import scipy\n",
    "%matplotlib inline\n",
    "from math import sqrt\n",
    "from matplotlib import style\n",
    "style.use('fivethirtyeight')\n",
    "from collections import Counter\n",
    "from sklearn.model_selection import train_test_split\n",
    "from sklearn import datasets\n",
    "import operator\n",
    "import random"
   ]
  },
  {
   "cell_type": "code",
   "execution_count": 266,
   "metadata": {},
   "outputs": [],
   "source": [
    "music = pd.DataFrame()\n",
    "\n",
    "# Some data to play with.\n",
    "music['duration'] = [184, 134, 243, 186, 122, 197, 294, 382, 102, 264, \n",
    "                     205, 110, 307, 110, 397, 153, 190, 192, 210, 403,\n",
    "                     164, 198, 204, 253, 234, 190, 182, 401, 376, 102]\n",
    "music['loudness'] = [18, 34, 43, 36, 22, 9, 29, 22, 10, 24, \n",
    "                     20, 10, 17, 51, 7, 13, 19, 12, 21, 22,\n",
    "                     16, 18, 4, 23, 34, 19, 14, 11, 37, 42]\n",
    "\n",
    "# We know whether the songs in our training data are jazz or not.\n",
    "music['jazz'] = [ 1, 0, 0, 0, 1, 1, 0, 1, 1, 0,\n",
    "                  0, 1, 1, 0, 1, 1, 0, 1, 1, 1,\n",
    "                  1, 1, 1, 1, 0, 0, 1, 1, 0, 0]"
   ]
  },
  {
   "cell_type": "code",
   "execution_count": 268,
   "metadata": {},
   "outputs": [],
   "source": [
    "test = pd.DataFrame()\n",
    "\n",
    "test['duration'] = [174, 114, 203, 186, 122, 197, 294, 382, 102, 264, \n",
    "                     205, 110, 307, 110, 397, 153, 190, 192, 210, 403,\n",
    "                     164, 198, 204, 253, 234, 190, 182, 401, 376, 102]\n",
    "test['loudness'] = [15, 30, 53, 36, 22, 9, 29, 22, 10, 24, \n",
    "                     20, 10, 17, 51, 7, 13, 19, 12, 21, 22,\n",
    "                     16, 18, 4, 23, 34, 19, 14, 11, 37, 42]\n",
    "\n",
    "# We know whether the songs in our training data are jazz or not.\n",
    "test['jazz'] = [ 1, 0, 0, 0, 1, 1, 0, 1, 1, 0,\n",
    "                  0, 1, 1, 0, 1, 1, 0, 1, 1, 1,\n",
    "                  1, 1, 1, 1, 0, 0, 1, 1, 0, 0]"
   ]
  },
  {
   "cell_type": "code",
   "execution_count": 269,
   "metadata": {},
   "outputs": [],
   "source": [
    "def ED(x1,x2, length): #it is used for calculating euclidean distance\n",
    "    distance = 0\n",
    "    for x in range(length):\n",
    "        distance += pow((x1[x] - x2[x]),2)\n",
    "    return np.sqrt(distance)"
   ]
  },
  {
   "cell_type": "code",
   "execution_count": 270,
   "metadata": {},
   "outputs": [],
   "source": [
    "def get_neighbors(trainingSet,testInstance,k):\n",
    "    distance = []\n",
    "    length = len(testInstance)-1\n",
    "    for x in range(len(trainingSet)):\n",
    "        dist = ED(testInstance,trainingSet[x],length)\n",
    "        distance.append((trainingSet[x], dist))\n",
    "    distance.sort(key = operator.itemgetter(1))\n",
    "    neighbors = []\n",
    "    for x in range(k):\n",
    "        neighbors.append((distance[x][0]))\n",
    "    return neighbors   \n",
    "        "
   ]
  },
  {
   "cell_type": "code",
   "execution_count": 271,
   "metadata": {},
   "outputs": [],
   "source": [
    "def get_response(neighbors):\n",
    "    classVotes = {}\n",
    "    for x in range(len(neighbors)):\n",
    "        response = neighbors[x][-1]\n",
    "        if response in classVotes:\n",
    "            classVotes[response] += 1\n",
    "        else:\n",
    "            classVotes[response] = 1\n",
    "    sorted_votes = sorted(classVotes.items(), key= operator.itemgetter(1), reverse = True)\n",
    "    return sorted_votes[0][0]"
   ]
  },
  {
   "cell_type": "code",
   "execution_count": 272,
   "metadata": {},
   "outputs": [],
   "source": [
    "def accuracy(testSet, predictions):\n",
    "    correct = 0\n",
    "    for x in range(len(testSet)):\n",
    "        if testSet[x][-1] == predictions[x]:\n",
    "            correct += 1\n",
    "    return (correct/len(testSet))"
   ]
  },
  {
   "cell_type": "code",
   "execution_count": 275,
   "metadata": {},
   "outputs": [
    {
     "name": "stdout",
     "output_type": "stream",
     "text": [
      "30\n",
      "30\n",
      "1\n",
      "predicted=1,actual=1\n",
      "0\n",
      "predicted=0,actual=0\n",
      "0\n",
      "predicted=0,actual=0\n",
      "0\n",
      "predicted=0,actual=0\n",
      "1\n",
      "predicted=1,actual=1\n",
      "1\n",
      "predicted=1,actual=1\n",
      "0\n",
      "predicted=0,actual=0\n",
      "1\n",
      "predicted=1,actual=1\n",
      "1\n",
      "predicted=1,actual=1\n",
      "0\n",
      "predicted=0,actual=0\n",
      "1\n",
      "predicted=1,actual=0\n",
      "1\n",
      "predicted=1,actual=1\n",
      "0\n",
      "predicted=0,actual=1\n",
      "0\n",
      "predicted=0,actual=0\n",
      "1\n",
      "predicted=1,actual=1\n",
      "1\n",
      "predicted=1,actual=1\n",
      "0\n",
      "predicted=0,actual=0\n",
      "1\n",
      "predicted=1,actual=1\n",
      "1\n",
      "predicted=1,actual=1\n",
      "1\n",
      "predicted=1,actual=1\n",
      "1\n",
      "predicted=1,actual=1\n",
      "0\n",
      "predicted=0,actual=1\n",
      "1\n",
      "predicted=1,actual=1\n",
      "0\n",
      "predicted=0,actual=1\n",
      "0\n",
      "predicted=0,actual=0\n",
      "0\n",
      "predicted=0,actual=0\n",
      "1\n",
      "predicted=1,actual=1\n",
      "1\n",
      "predicted=1,actual=1\n",
      "1\n",
      "predicted=1,actual=0\n",
      "0\n",
      "predicted=0,actual=0\n",
      "Accuracy =0.8333333333333334%\n"
     ]
    }
   ],
   "source": [
    "def main():\n",
    "    trainingSet = music.to_numpy()\n",
    "    testSet = test.to_numpy()\n",
    "    print(len(trainingSet))\n",
    "    print(len(testSet))\n",
    "    predictions = []\n",
    "    k = 3\n",
    "    for x in range(len(testSet)):\n",
    "        neighbors = get_neighbors(trainingSet, testSet[x], k)\n",
    "        result = get_response(neighbors)\n",
    "        print(result)\n",
    "        predictions.append(result)\n",
    "        print('predicted=' +repr(result)+ ',actual='+ repr(testSet[x][-1]))\n",
    "    acc = accuracy(testSet, predictions)\n",
    "    print('Accuracy =' + repr(acc) + '%')     \n",
    "main()"
   ]
  },
  {
   "cell_type": "code",
   "execution_count": null,
   "metadata": {},
   "outputs": [],
   "source": []
  }
 ],
 "metadata": {
  "kernelspec": {
   "display_name": "Python 3",
   "language": "python",
   "name": "python3"
  },
  "language_info": {
   "codemirror_mode": {
    "name": "ipython",
    "version": 3
   },
   "file_extension": ".py",
   "mimetype": "text/x-python",
   "name": "python",
   "nbconvert_exporter": "python",
   "pygments_lexer": "ipython3",
   "version": "3.7.3"
  }
 },
 "nbformat": 4,
 "nbformat_minor": 2
}
